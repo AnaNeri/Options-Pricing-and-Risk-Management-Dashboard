{
 "cells": [
  {
   "cell_type": "code",
   "execution_count": 1,
   "metadata": {},
   "outputs": [],
   "source": [
    "import sys\n",
    "import os\n",
    "\n",
    "# Add the src directory to the Python path\n",
    "sys.path.append(os.path.abspath(os.path.join('..', 'src')))\n",
    "\n",
    "from  greeks_calculator import *"
   ]
  },
  {
   "cell_type": "markdown",
   "metadata": {},
   "source": [
    "# Greeks\n",
    "\n",
    "Greeks are dimentions of risk involved in taking an option position. \n",
    "\n",
    "Each risk variable is a result of an imperfect assumption / relation of the option with other underlying value."
   ]
  },
  {
   "cell_type": "markdown",
   "metadata": {},
   "source": [
    "### Delta ($\\Delta$)\n",
    "\n",
    "$\\Delta$ represents the rate change between the option's price and $\\$ 1$ change in the underlying asset's price.\n",
    "i.e. Measures the price sensibility. \n",
    "\n",
    "Range:\n",
    "* call options: $0$ to $1$\n",
    "* put option: $-1$ to $0$\n",
    "\n",
    "e.g. if the delta of a long call option is $0.5$, so if the underlying stock increases by $\\$ 1$, the option's price would theretically increase $50$ cents.\n",
    "\n",
    "Formula:\n",
    "* Call:\n",
    "$$ \\Delta = N (d_1)$$\n",
    "\n",
    "* Put:\n",
    "$$ \\Delta = N(d_1) -1 $$"
   ]
  },
  {
   "cell_type": "code",
   "execution_count": 2,
   "metadata": {},
   "outputs": [
    {
     "name": "stdout",
     "output_type": "stream",
     "text": [
      "0.048782958860439665\n"
     ]
    }
   ],
   "source": [
    "d = delta(S = 100, K=150, T=0.05, r=0.2, sigma=1, option_type='call')\n",
    "print(d)"
   ]
  },
  {
   "cell_type": "markdown",
   "metadata": {},
   "source": [
    "### Theta ($\\Theta$)\n",
    "\n",
    "$\\Theta$ represents the rate of change between the option price and time, or time sensibility, aka option's time decay. \n",
    "In other words, it indicates how much an option price decreases as the time expiration decreases, all else equal. \n",
    "\n",
    "Formula:\n",
    "* Call:\n",
    "$$ \\Theta = - \\frac{S_0 \\sigma N_{prime}(d_1)}{2 \\sqrt{T}} - rKe^{-rT}N(d_2)$$\n",
    "* Put:\n",
    "$$ \\Theta = - \\frac{S_0 \\sigma N_{prime}(d_1)}{2 \\sqrt{T}} + rKe^{-rT}N(-d_2)$$ \n",
    "\n",
    "Theta increases whe options are at-the-money and decreases when they are in- and -out-of-the money (an option is in the monay when an option presents a profit opportunity due to the relationship between the strike price and the prevailing market price of the underlying asset).\n",
    "\n",
    "Options closer to expiration have accelarating time decay.\n",
    "\n",
    "Long calls and log puts usually have negative Theta, short calls and short puts have positive Theta. "
   ]
  },
  {
   "cell_type": "code",
   "execution_count": 4,
   "metadata": {},
   "outputs": [
    {
     "name": "stdout",
     "output_type": "stream",
     "text": [
      "-0.06439581556225782\n"
     ]
    }
   ],
   "source": [
    "t = theta(S = 100, K=150, T=0.05, r=0.2, sigma=1, option_type='call')\n",
    "print(t)"
   ]
  },
  {
   "cell_type": "markdown",
   "metadata": {},
   "source": [
    "### Gamma ($\\Gamma$)\n",
    "\n",
    "Represents the rate change between an option's delta and the underlying asset's price. \n",
    "It is a second-order derivate price sensitivity. \n",
    "\n",
    "In other words, it indicates the amount the delta would change given $\\$1$ move in the underlying security. \n",
    "\n",
    "Gamma aims to determine the stability of an option's delta. \n",
    "*Higher gamma* - delta could change dematically in response to small movements in the underlying price.\n",
    "\n",
    "Gamma is higher for options that are at-the-money and lower for options that are in- and out-of-the-monay. \n",
    "Its accelerates in magniture as expiration approaches. \n",
    "\n",
    "Gamma is always positive. \n",
    "\n",
    "Gamma increases as expiration nears, making options more sensitive to price moves.\n",
    "\n",
    "Formula:\n",
    "$$ \\Gamma = \\frac{N_{prime}(d_1)}{S_0 \\sigma \\sqrt{T}}$$\n"
   ]
  },
  {
   "cell_type": "code",
   "execution_count": 6,
   "metadata": {},
   "outputs": [
    {
     "name": "stdout",
     "output_type": "stream",
     "text": [
      "0.0021816402431103755\n"
     ]
    }
   ],
   "source": [
    "g= gamma(S = 100, K=150, T=0.05, r=0.2, sigma=1)\n",
    "print(g)"
   ]
  },
  {
   "cell_type": "markdown",
   "metadata": {},
   "source": [
    "### Vega ($\\nu$)\n",
    "\n",
    "Vega illustrates the rate of change between an option's value and the underlying asset's impled volatility, i.e. option's sensitivity to volatility. \n",
    "\n",
    "e.g. an option with a Vega of $0.10$ indicates the option's value is expected to change by $10$ cents if the implied volatility changes by $1\\%$.\n",
    "\n",
    "A rise in volatility increases the value of an option, while the decrease in volatility decreases the value of an option. \n",
    "\n",
    "It's higher for at-the-money options that have longer times until expiration. \n",
    "\n",
    "Formula:\n",
    "$$\\nu = S_0 \\sqrt{T} N_{prime} (d_1)$$\n"
   ]
  },
  {
   "cell_type": "code",
   "execution_count": 7,
   "metadata": {},
   "outputs": [
    {
     "name": "stdout",
     "output_type": "stream",
     "text": [
      "0.02261258581512304\n"
     ]
    }
   ],
   "source": [
    "v = vega(S = 100, K=150, T=0.05, r=0.2, sigma=1)\n",
    "print(v)"
   ]
  },
  {
   "cell_type": "markdown",
   "metadata": {},
   "source": [
    "### Rho($\\rho$)\n",
    "\n",
    "Rho represents the rate of change between an option's value and a 1% change in the interest rate. This measures sensitivity to the interest rate. \n",
    "\n",
    "A call option has a rho of $0.05$ and a price of $\\$1.25$. If interest rates rise by $1\\%$, the value of the call option would increase to $\\$1.30$, all else being equal. The opposite is true for put options.\n",
    "\n",
    "It's greatest for at-the-money options with long times until expiration.\n",
    "\n",
    "Formula:\n",
    "* Call\n",
    "$$ \\rho = KTe^{-rT} N(d_2) $$\n",
    "\n",
    "* Put\n",
    "$$ \\rho = -KTe^{-rT} N(-d_2)$$"
   ]
  },
  {
   "cell_type": "code",
   "execution_count": 8,
   "metadata": {},
   "outputs": [
    {
     "name": "stdout",
     "output_type": "stream",
     "text": [
      "0.002229717162752669\n"
     ]
    }
   ],
   "source": [
    "r = rho(S = 100, K=150, T=0.05, r=0.2, sigma=1, option_type='call')\n",
    "print(r)"
   ]
  },
  {
   "cell_type": "markdown",
   "metadata": {},
   "source": [
    "### Summary: \n",
    "\n",
    "* Delta - price sensitivity to sctock moves\n",
    "* Gamma - sensitivity of Delta\n",
    "* Theta - time decay \n",
    "* Vega - sensitivity to volatility\n",
    "* Rho - sensitivity to interest rates\n"
   ]
  },
  {
   "cell_type": "code",
   "execution_count": 9,
   "metadata": {},
   "outputs": [
    {
     "name": "stdout",
     "output_type": "stream",
     "text": [
      "Delta : 0.048782958860439665\n",
      "Gamma : 0.0021816402431103755\n",
      "Theta : -0.06439581556225782\n",
      "Vega : 0.02261258581512304\n",
      "Rho : 0.002229717162752669\n"
     ]
    }
   ],
   "source": [
    "greeks = greeks_calculater_funtion(S = 100, K=150, T=0.05, r=0.2, sigma=1, option_type='call')\n",
    "for k,v in greeks.items():\n",
    "    print(k,':',v)"
   ]
  },
  {
   "cell_type": "code",
   "execution_count": null,
   "metadata": {},
   "outputs": [],
   "source": []
  }
 ],
 "metadata": {
  "kernelspec": {
   "display_name": "options_env",
   "language": "python",
   "name": "python3"
  },
  "language_info": {
   "codemirror_mode": {
    "name": "ipython",
    "version": 3
   },
   "file_extension": ".py",
   "mimetype": "text/x-python",
   "name": "python",
   "nbconvert_exporter": "python",
   "pygments_lexer": "ipython3",
   "version": "3.13.1"
  }
 },
 "nbformat": 4,
 "nbformat_minor": 2
}
